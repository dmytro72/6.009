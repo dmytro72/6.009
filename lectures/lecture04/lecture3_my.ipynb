{
 "cells": [
  {
   "cell_type": "markdown",
   "metadata": {},
   "source": [
    "# Motivating Recursion: When Loops Get Tedious"
   ]
  },
  {
   "cell_type": "code",
   "execution_count": 1,
   "metadata": {},
   "outputs": [],
   "source": [
    "def list_sum(L):\n",
    "    \"\"\"Return the sum of the elements in a list.\"\"\"\n",
    "\n",
    "    total = 0\n",
    "    for x in L:\n",
    "        total += x\n",
    "    return total"
   ]
  },
  {
   "cell_type": "code",
   "execution_count": 2,
   "metadata": {},
   "outputs": [],
   "source": [
    "assert list_sum([]) == 0\n",
    "assert list_sum([1]) == 1\n",
    "assert list_sum([1, 2, 3]) == 6\n",
    "assert list_sum([1, -1, 2, -2, 100, -100, 6]) == 6"
   ]
  },
  {
   "cell_type": "code",
   "execution_count": 3,
   "metadata": {},
   "outputs": [],
   "source": [
    "def sum_all(L):\n",
    "    \"\"\"Return the sum of all elements in a list with arbitrary nesting.\"\"\"\n",
    "\n",
    "    total = 0\n",
    "    while len(L) > 0:\n",
    "        if isinstance(L[0], list):\n",
    "            # Oh, the first value is a list? \n",
    "            # Rather then adding it to the total, let's smoosh it together with the input.\n",
    "            L = L[0] + L[1:]\n",
    "        else:\n",
    "            # The first value must be something we add directly into our total.\n",
    "            total += L[0]\n",
    "            del L[0] # Remove first list element.\n",
    "    return total"
   ]
  },
  {
   "cell_type": "code",
   "execution_count": 4,
   "metadata": {},
   "outputs": [],
   "source": [
    "assert sum_all([1, 2, 3]) == 6\n",
    "assert sum_all([1, [2, 3], 4]) == 10\n",
    "assert sum_all([1, 2, [3, [4, [[[5]]]], 6, [7, 8]], 9]) == 45"
   ]
  },
  {
   "cell_type": "code",
   "execution_count": 5,
   "metadata": {},
   "outputs": [],
   "source": [
    "def weighted_sum_all(L):\n",
    "    \"\"\"Return the sum of all elements in a list with arbitrary nesting, with a catch:\n",
    "    Every addition to the sum should be *multiplied* by the depth where it appears.\n",
    "    The first level of list has depth 1, then the next level has depth 2, etc.\"\"\"\n",
    "\n",
    "    total = 0\n",
    "    multiplier = 1\n",
    "    while len(L) > 0:\n",
    "        if isinstance(L[0], list):\n",
    "            # Oh, the first value is a list?  We got more nested, so bump multiplier.\n",
    "            multiplier += 1\n",
    "            # Rather then adding the nested list to the total, let's smoosh it together with the input.\n",
    "            # We also leave a reminder of when to decrease the multiplier again.\n",
    "            L = L[0] + ['decrease'] + L[1:]\n",
    "        elif L[0] == 'decrease':\n",
    "            multiplier -= 1\n",
    "            del L[0]\n",
    "        else:\n",
    "            # The first value must be something we add directly into our total.\n",
    "            total += multiplier * L[0]\n",
    "            del L[0]\n",
    "    return total"
   ]
  },
  {
   "cell_type": "code",
   "execution_count": 6,
   "metadata": {},
   "outputs": [],
   "source": [
    "assert weighted_sum_all([1]) == 1\n",
    "assert weighted_sum_all([[1]]) == 2\n",
    "assert weighted_sum_all([[[1]]]) == 3\n",
    "assert weighted_sum_all([[1], 3]) == 5"
   ]
  },
  {
   "cell_type": "markdown",
   "metadata": {},
   "source": [
    "# Making Change"
   ]
  },
  {
   "cell_type": "code",
   "execution_count": 7,
   "metadata": {},
   "outputs": [],
   "source": [
    "def make_change(amount, coins):\n",
    "    \"\"\"Let coins be a list of positive integer values for coins that are available for making change.\n",
    "    Try to find a way to use just those coins to add up to a total of amount.\n",
    "    If found, return a list of coins.  Otherwise, return None.\n",
    "    \"\"\"\n",
    "    if amount == 0:\n",
    "        # No coins, but also no more change left to make!  Easy solution.\n",
    "        return []\n",
    "    elif len(coins) == 0:\n",
    "        # We have some change left to make, but no coins are available.\n",
    "        return None\n",
    "    else:\n",
    "        # At least one coin remains.  Consider the cases we use it or don't use it.\n",
    "        do_not_use_it = make_change(amount, coins[1:])\n",
    "        if do_not_use_it != None:\n",
    "            # Any solution that skips this coin is also legal if this coin was allowed, too.\n",
    "            return do_not_use_it\n",
    "        else:\n",
    "            use_it = make_change(amount - coins[0], coins[1:])\n",
    "            if use_it != None:\n",
    "                # Any solution that skips this coin can be converted back to a global solution by adding the coin.\n",
    "                # Note that we decreased amount in the recursive call, to ensure this trick works.\n",
    "                return [coins[0]] + use_it\n",
    "            else:\n",
    "                return None"
   ]
  },
  {
   "cell_type": "code",
   "execution_count": 8,
   "metadata": {},
   "outputs": [],
   "source": [
    "assert make_change(0, [1, 5, 10]) == []\n",
    "assert make_change(15, [1, 5, 10]) == [5, 10]\n",
    "assert make_change(11, [1, 5, 10]) == [1, 10]\n",
    "assert make_change(13, [1, 5, 10]) == None"
   ]
  },
  {
   "cell_type": "markdown",
   "metadata": {},
   "source": [
    "# Recursion and Trees\n",
    "\n",
    "An abstract syntax tree (AST) is a convenient way of representing an arbitrary expression involving numbers and arithmetic operators.  Here's a description of an AST in Backus-Naur Form (BNF), a famous way of describing computer languages:\n",
    "\n",
    "`ast :== integer | string | (operator, ast, ast)\n",
    "operator :== \"+\" | \"*\" | …`\n",
    "\n",
    "Here are the rules for determining the value of an AST, given an *environment* (a dictionary mapping variable names to values):\n",
    "\n",
    "* If AST is an integer, return its value.\n",
    "* If AST is a string, treat as a variable name, returning the variable's value.\n",
    "* Otherwise, return the result of performing the operation on the values of the operands."
   ]
  },
  {
   "cell_type": "code",
   "execution_count": 9,
   "metadata": {},
   "outputs": [],
   "source": [
    "def eval_operator(operator, operand1, operand2):\n",
    "    \"\"\"Return the result of applying the given operator to the two numeric operands.\"\"\"\n",
    "\n",
    "    if operator == '+':\n",
    "        return operand1 + operand2\n",
    "    elif operator == '-':\n",
    "        return operand1 - operand2\n",
    "    elif operator == '*':\n",
    "        return operand1 * operand2\n",
    "    elif operator == '/':\n",
    "        return operand1 / operand2\n",
    "    else:\n",
    "        raise ValueError\n",
    "\n",
    "def eval_ast(ast, env={}):\n",
    "    \"\"\"Return the value of the AST in the given environment (dictionary mapping variables to values).\"\"\"\n",
    "\n",
    "    if isinstance(ast, tuple):\n",
    "        # If it's a tuple, it represents an operator.  Unpack the pieces and recurse.\n",
    "        operator, operand1, operand2 = ast\n",
    "        return eval_operator(operator, eval_ast(operand1, env), eval_ast(operand2, env))\n",
    "    elif isinstance(ast, str):\n",
    "        # It's a variable, represented as the variable name (string)?  Just look up in the environment.\n",
    "        return env[ast]\n",
    "    else:\n",
    "        # It's a constant?  Then the AST is its own value.\n",
    "        return ast"
   ]
  },
  {
   "cell_type": "code",
   "execution_count": 10,
   "metadata": {},
   "outputs": [],
   "source": [
    "assert eval_ast(3) == 3\n",
    "assert eval_ast('pi', {'pi': 3.141592653}) == 3.141592653\n",
    "assert eval_ast(('*', 2, 21)) == 42\n",
    "    \n",
    "# evaluate 3 + 47*5/pi - 13\n",
    "ast = ('-',\n",
    "       ('+',\n",
    "          ('/',\n",
    "           ('*', 47, 5),\n",
    "           'pi'),\n",
    "          3),\n",
    "       13)\n",
    "assert eval_ast(ast, {'pi': 3.141592653}) == 64.80282326723406"
   ]
  },
  {
   "cell_type": "markdown",
   "metadata": {},
   "source": [
    "# Merge Sort"
   ]
  },
  {
   "cell_type": "code",
   "execution_count": 11,
   "metadata": {},
   "outputs": [],
   "source": [
    "def merge(left, right):\n",
    "    \"\"\"Assumes left and right are sorted lists.  Returns a single new                    \n",
    "    list built, in order, from the elements of left and right.\"\"\"\n",
    "\n",
    "    result = []\n",
    "    i, j = 0, 0\n",
    "    # Loop while there are elements in both lists.                                     \n",
    "    while i < len(left) and j < len(right):\n",
    "        # Copy smallest element to result.\n",
    "        if left[i] < right[j]:\n",
    "            result.append(left[i])\n",
    "            i += 1\n",
    "        else:\n",
    "            result.append(right[j])\n",
    "            j += 1\n",
    "\n",
    "    # Copy over any remaining elements.\n",
    "    # Only one of the lists has any elements remaining!\n",
    "    result.extend(left[i:]) # Recall that extend adds all elements of the argument list.\n",
    "    result.extend(right[j:])\n",
    "    return result"
   ]
  },
  {
   "cell_type": "code",
   "execution_count": 12,
   "metadata": {},
   "outputs": [],
   "source": [
    "assert(merge([1, 2], [3, 4])) == [1, 2, 3, 4]\n",
    "assert(merge([1, 3], [2, 4])) == [1, 2, 3, 4]"
   ]
  },
  {
   "cell_type": "code",
   "execution_count": 13,
   "metadata": {},
   "outputs": [],
   "source": [
    "def sort(L):\n",
    "    \"\"\"Returns a new sorted list containing the same elements as L.\"\"\"\n",
    "    if len(L) <= 1:\n",
    "        return L[:]\n",
    "    middle = len(L) // 2\n",
    "    left = sort(L[:middle])\n",
    "    right = sort(L[middle:])\n",
    "    return merge(left, right)"
   ]
  },
  {
   "cell_type": "code",
   "execution_count": 14,
   "metadata": {},
   "outputs": [],
   "source": [
    "assert sort([23, 3, 45, 7, 6, 11, 14, 12]) == [3, 6, 7, 11, 12, 14, 23, 45]"
   ]
  },
  {
   "cell_type": "code",
   "execution_count": null,
   "metadata": {},
   "outputs": [],
   "source": []
  }
 ],
 "metadata": {
  "kernelspec": {
   "display_name": "Python 3",
   "language": "python",
   "name": "python3"
  },
  "language_info": {
   "codemirror_mode": {
    "name": "ipython",
    "version": 3
   },
   "file_extension": ".py",
   "mimetype": "text/x-python",
   "name": "python",
   "nbconvert_exporter": "python",
   "pygments_lexer": "ipython3",
   "version": "3.7.2"
  }
 },
 "nbformat": 4,
 "nbformat_minor": 2
}
