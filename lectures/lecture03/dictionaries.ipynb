{
 "cells": [
  {
   "cell_type": "markdown",
   "metadata": {
    "collapsed": true
   },
   "source": [
    "# Dictionaries\n",
    "Dictionaries are like sets, except that the \"elements\" of the dictionary are treated as keys, and a value is associated with that key. As in sets, the keys to dictionaries must be hashable objects. However, the values associated with the key can be anything, and can be mutable. In addition, the association between key and value can also be changed."
   ]
  },
  {
   "cell_type": "code",
   "execution_count": 1,
   "metadata": {},
   "outputs": [
    {
     "name": "stdout",
     "output_type": "stream",
     "text": [
      "type of obj1 =  <class 'set'>\n",
      "type of obj2 =  <class 'set'>\n",
      "type of obj3 =  <class 'dict'>\n",
      "type of obj4 =  <class 'dict'>\n",
      "type of obj5 =  <class 'dict'>\n"
     ]
    }
   ],
   "source": [
    "# initialize sets\n",
    "obj1 = set()\n",
    "obj2 = {'hi'}\n",
    "\n",
    "# initialize dictionaries\n",
    "obj3 = {}\n",
    "obj4 = dict()\n",
    "obj5 = {'hi': 'hello'}\n",
    "\n",
    "print ('type of obj1 = ', type(obj1))\n",
    "print ('type of obj2 = ', type(obj2))\n",
    "print ('type of obj3 = ', type(obj3))\n",
    "print ('type of obj4 = ', type(obj4))\n",
    "print ('type of obj5 = ', type(obj5))"
   ]
  },
  {
   "cell_type": "code",
   "execution_count": 2,
   "metadata": {},
   "outputs": [
    {
     "name": "stdout",
     "output_type": "stream",
     "text": [
      "{'apple': 4, 'pear': 6, 'orange': 4}\n"
     ]
    }
   ],
   "source": [
    "fruits = {}\n",
    "fruits['apple'] = 4\n",
    "fruits['pear'] = 6\n",
    "fruits['orange'] = 4\n",
    "print(fruits)"
   ]
  },
  {
   "cell_type": "code",
   "execution_count": 3,
   "metadata": {},
   "outputs": [
    {
     "name": "stdout",
     "output_type": "stream",
     "text": [
      "{'apple': [4, 5.5, 3], 'pear': [6, 6.5, 7]}\n"
     ]
    }
   ],
   "source": [
    "fruits = {}\n",
    "fruits['apple'] = [4, 5.5, 3]\n",
    "fruits[\"pear\"] = [6, 6.5, 7]\n",
    "print(fruits)"
   ]
  },
  {
   "cell_type": "code",
   "execution_count": 4,
   "metadata": {},
   "outputs": [
    {
     "name": "stdout",
     "output_type": "stream",
     "text": [
      "They have pears!\n",
      "They don't have oranges!\n"
     ]
    }
   ],
   "source": [
    "#Is key in a dictionary? Can use 'in' syntax.\n",
    "if 'pear' in fruits:\n",
    "    print ('They have pears!')\n",
    "    \n",
    "if 'orange' not in fruits:\n",
    "    print (\"They don't have oranges!\")"
   ]
  },
  {
   "cell_type": "code",
   "execution_count": 5,
   "metadata": {},
   "outputs": [
    {
     "name": "stdout",
     "output_type": "stream",
     "text": [
      "fruits: {'apple': [4, 5.5, 3], 'pear': [6, 6.5, 7], 'orange': [5.4, 4.3, 5.5]}\n"
     ]
    }
   ],
   "source": [
    "fruits['orange'] = [5.4, 4.3, 5.5]\n",
    "print(\"fruits:\", fruits)"
   ]
  },
  {
   "cell_type": "code",
   "execution_count": 6,
   "metadata": {},
   "outputs": [
    {
     "name": "stdout",
     "output_type": "stream",
     "text": [
      "key: apple \tval: [4, 5.5, 3]\n",
      "key: pear \tval: [6, 6.5, 7]\n",
      "key: orange \tval: [5.4, 4.3, 5.5]\n"
     ]
    }
   ],
   "source": [
    "# Iterate over keys in a dictionary. Any order can occur!\n",
    "for key in fruits:\n",
    "    print(\"key:\", key, \"\\tval:\", fruits[key])"
   ]
  },
  {
   "cell_type": "code",
   "execution_count": 7,
   "metadata": {},
   "outputs": [
    {
     "name": "stdout",
     "output_type": "stream",
     "text": [
      "key: apple \tval: [4, 5.5, 3]\n",
      "key: pear \tval: [6, 6.5, 7]\n",
      "key: orange \tval: [5.4, 4.3, 5.5]\n"
     ]
    }
   ],
   "source": [
    "# Also, can iterate over key, val items in a dictionary. Any order can occur!\n",
    "for key, val in fruits.items():\n",
    "    print(\"key:\", key, \"\\tval:\", val)"
   ]
  },
  {
   "cell_type": "code",
   "execution_count": 8,
   "metadata": {},
   "outputs": [
    {
     "name": "stdout",
     "output_type": "stream",
     "text": [
      "keys = \t\t ['apple', 'pear', 'orange']\n",
      "values = \t [[4, 5.5, 3], [6, 6.5, 7], [5.4, 4.3, 5.5]]\n"
     ]
    }
   ],
   "source": [
    "print (\"keys = \\t\\t\", list(fruits.keys()))\n",
    "print (\"values = \\t\", list(fruits.values()))"
   ]
  },
  {
   "cell_type": "code",
   "execution_count": 9,
   "metadata": {},
   "outputs": [
    {
     "name": "stdout",
     "output_type": "stream",
     "text": [
      "fruits: {'apple': [4, 5.5, 3], 'orange': [5.4, 4.3, 5.5]}\n"
     ]
    }
   ],
   "source": [
    "# Remove element from a dictionary\n",
    "del fruits['pear']  #Exception if key is not in dictionary\n",
    "print(\"fruits:\", fruits)"
   ]
  },
  {
   "cell_type": "code",
   "execution_count": 10,
   "metadata": {},
   "outputs": [
    {
     "data": {
      "text/plain": [
       "{0: 0, 1: 1, 2: 8, 3: 27, 4: 64, 5: 125, 6: 216, 7: 343}"
      ]
     },
     "execution_count": 10,
     "metadata": {},
     "output_type": "execute_result"
    }
   ],
   "source": [
    "# Dictionary comprehensions also possible\n",
    "{n: n**3 for n in range(8)}"
   ]
  },
  {
   "cell_type": "code",
   "execution_count": 11,
   "metadata": {},
   "outputs": [
    {
     "name": "stdout",
     "output_type": "stream",
     "text": [
      "my_fruits =\t {'pear': 4, 'apple': 5, 'orange': 3}\n",
      "new_fruits =\t {'grape': 4, 'lemon': 8}\n"
     ]
    }
   ],
   "source": [
    "my_fruits = {'pear': 4, 'apple': 5, 'orange': 3}\n",
    "new_fruits = {'grape': 4, 'lemon': 8}\n",
    "print (\"my_fruits =\\t\", my_fruits)\n",
    "print (\"new_fruits =\\t\", new_fruits)"
   ]
  },
  {
   "cell_type": "code",
   "execution_count": 12,
   "metadata": {},
   "outputs": [
    {
     "name": "stdout",
     "output_type": "stream",
     "text": [
      "my_fruits =\t {'pear': 4, 'apple': 5, 'orange': 3, 'grape': 4, 'lemon': 8}\n"
     ]
    }
   ],
   "source": [
    "my_fruits.update(new_fruits)\n",
    "print (\"my_fruits =\\t\", my_fruits)"
   ]
  },
  {
   "cell_type": "code",
   "execution_count": 13,
   "metadata": {},
   "outputs": [
    {
     "name": "stdout",
     "output_type": "stream",
     "text": [
      "my_fruits = \t {'pear': 4, 'apple': 5, 'orange': 3}\n",
      "new_fruits = \t {'apple': 8}\n"
     ]
    }
   ],
   "source": [
    "my_fruits = {'pear': 4, 'apple': 5, 'orange': 3}\n",
    "new_fruits = {'apple': 8}\n",
    "print (\"my_fruits = \\t\", my_fruits)\n",
    "print (\"new_fruits = \\t\", new_fruits)"
   ]
  },
  {
   "cell_type": "code",
   "execution_count": 14,
   "metadata": {},
   "outputs": [
    {
     "name": "stdout",
     "output_type": "stream",
     "text": [
      "my_fruits =\t {'pear': 4, 'apple': 8, 'orange': 3}\n"
     ]
    }
   ],
   "source": [
    "my_fruits.update(new_fruits)\n",
    "print (\"my_fruits =\\t\", my_fruits)"
   ]
  },
  {
   "cell_type": "code",
   "execution_count": 15,
   "metadata": {},
   "outputs": [
    {
     "name": "stdout",
     "output_type": "stream",
     "text": [
      "{'apple': [4, 5.5, 3], 'pear': [6, 6.5, 7]}\n"
     ]
    }
   ],
   "source": [
    "fruits = {}\n",
    "fruits['apple'] = [4, 5.5, 3]\n",
    "fruits[\"pear\"] = [6, 6.5, 7]\n",
    "print(fruits)"
   ]
  },
  {
   "cell_type": "code",
   "execution_count": 16,
   "metadata": {},
   "outputs": [],
   "source": [
    "def add_fruit_price(fruit, price):\n",
    "#     fruits.setdefault(fruit, []).append(price)\n",
    "    if fruit in fruits:\n",
    "        fruits[fruit].append(price)\n",
    "    else:\n",
    "        fruits[fruit] = [price]"
   ]
  },
  {
   "cell_type": "code",
   "execution_count": 17,
   "metadata": {},
   "outputs": [
    {
     "name": "stdout",
     "output_type": "stream",
     "text": [
      "{'apple': [4, 5.5, 3], 'pear': [6, 6.5, 7], 'guava': [8]}\n"
     ]
    }
   ],
   "source": [
    "add_fruit_price('guava', 8)\n",
    "print (fruits)"
   ]
  },
  {
   "cell_type": "markdown",
   "metadata": {},
   "source": [
    "## Problem:\n",
    "\n",
    "Return a new list with the 2nd instance of the first element htat is repeated in the input list removed. The rest of the list should remain unchanged (be the same as the input)."
   ]
  },
  {
   "cell_type": "markdown",
   "metadata": {},
   "source": [
    "## Goal:\n",
    "\n",
    "Our goal is to use this problem to build some familiarity with sets and dectionaries - so the code versions below are written to use sets and/or dictionaries. This is definitely not the only way to solve the problem, but it happends to also be the most efficient away. (At the very end, we'll also show a more \"direct\", but less efficient, solution which does not use sets or dictionaries.)"
   ]
  },
  {
   "cell_type": "code",
   "execution_count": 18,
   "metadata": {},
   "outputs": [],
   "source": [
    "inp = [0, 12, 12, 0, 12, 12, 34, 56, 23, 11, 45, 2, 3, 4, 7, 10, 12]\n",
    "\n",
    "inp_str = ['zero', 'twelve', 'twelve', 'zero', 'twelve', 'twelve',\n",
    "          'thirty four', 'fifty six', 'twenty three', 'eleven',\n",
    "          'forty five', 'two', 'three', 'four', 'seven', 'ten', 'twelve']"
   ]
  },
  {
   "cell_type": "markdown",
   "metadata": {},
   "source": [
    "### Version 1"
   ]
  },
  {
   "cell_type": "code",
   "execution_count": 19,
   "metadata": {},
   "outputs": [],
   "source": [
    "def remove_2nd_instance_v1(data):\n",
    "    print(\"data:\", data)\n",
    "    \n",
    "    # create a dictionary with frequencies\n",
    "    freqd = {}\n",
    "    for x in data:\n",
    "        freqd[x] = freqd.get(x, 0) + 1\n",
    "        \n",
    "    # look for first element in list, that is repeated somwhere later\n",
    "    repeated = None\n",
    "    for x in data:\n",
    "        if freqd[x] >= 2:\n",
    "            repeated = x\n",
    "            break\n",
    "    print(\"first repeated:\", repeated)\n",
    "    \n",
    "    # look through the list to find where the 2nd instance of the repet is\n",
    "    index = len(data)\n",
    "    count = 0\n",
    "    for i in range(len(data)):\n",
    "        if data[i] == repeated:\n",
    "            count += 1\n",
    "        if count == 2:\n",
    "            index = i\n",
    "            break\n",
    "    print(\"index:\", index)\n",
    "    \n",
    "    output = data[:]\n",
    "    # remove this 2nd istance if it exists from a copy of the input\n",
    "    if index < len(output):\n",
    "        output.pop(index)\n",
    "    return output"
   ]
  },
  {
   "cell_type": "code",
   "execution_count": 20,
   "metadata": {},
   "outputs": [
    {
     "name": "stdout",
     "output_type": "stream",
     "text": [
      "data: [0, 12, 12, 0, 12, 12, 34, 56, 23, 11, 45, 2, 3, 4, 7, 10, 12]\n",
      "first repeated: 0\n",
      "index: 3\n"
     ]
    },
    {
     "data": {
      "text/plain": [
       "[0, 12, 12, 12, 12, 34, 56, 23, 11, 45, 2, 3, 4, 7, 10, 12]"
      ]
     },
     "execution_count": 20,
     "metadata": {},
     "output_type": "execute_result"
    }
   ],
   "source": [
    "remove_2nd_instance_v1(inp)"
   ]
  },
  {
   "cell_type": "code",
   "execution_count": 22,
   "metadata": {},
   "outputs": [
    {
     "name": "stdout",
     "output_type": "stream",
     "text": [
      "data: ['zero', 'twelve', 'twelve', 'zero', 'twelve', 'twelve', 'thirty four', 'fifty six', 'twenty three', 'eleven', 'forty five', 'two', 'three', 'four', 'seven', 'ten', 'twelve']\n",
      "first repeated: zero\n",
      "index: 3\n",
      "['zero', 'twelve', 'twelve', 'twelve', 'twelve', 'thirty four', 'fifty six', 'twenty three', 'eleven', 'forty five', 'two', 'three', 'four', 'seven', 'ten', 'twelve']\n"
     ]
    }
   ],
   "source": [
    "output = remove_2nd_instance_v1(inp_str)\n",
    "print(output)"
   ]
  },
  {
   "cell_type": "markdown",
   "metadata": {},
   "source": [
    "## Revised Spec\n",
    "\n",
    "Our procedure removed 0('zero') from the list at index 3, since that is the first repeat of the \"earlest\" element that has a later repeat. is that what we want? Our specification is perhaps ambiguous. Arguably, we might want to remove 12 at index 2 since 12 appeared twice before 0 appeared twice. Let's clarify our spec: by \"first repeated element\" we mean the element that appears twice first."
   ]
  },
  {
   "cell_type": "markdown",
   "metadata": {},
   "source": [
    "### Version 2"
   ]
  },
  {
   "cell_type": "code",
   "execution_count": 26,
   "metadata": {},
   "outputs": [],
   "source": [
    "def remove_2nd_instance_v2(data):\n",
    "    print(\"data:\", data)\n",
    "    \n",
    "    freqd = {}\n",
    "    for i in range(len(data)):\n",
    "        x = data[i]\n",
    "        if x in freqd:\n",
    "            freqd[x][0] += 1\n",
    "            if freqd[x][0] == 2:\n",
    "                freqd[x][1] = i\n",
    "        else:\n",
    "            freqd[x] = [1, 1]\n",
    "    print(\"freqd =\", freqd)\n",
    "    \n",
    "    index = len(data)\n",
    "    for x in data:\n",
    "        entry = freqd[x]\n",
    "        if entry[0] >= 2:\n",
    "            index = min(index, entry[1])\n",
    "    print(\"index:\", index)\n",
    "    \n",
    "    output = data[:]\n",
    "    if index < len(output):\n",
    "        output.pop(index)\n",
    "    return output"
   ]
  },
  {
   "cell_type": "code",
   "execution_count": 27,
   "metadata": {},
   "outputs": [
    {
     "name": "stdout",
     "output_type": "stream",
     "text": [
      "data: [0, 12, 12, 0, 12, 12, 34, 56, 23, 11, 45, 2, 3, 4, 7, 10, 12]\n",
      "freqd = {0: [2, 3], 12: [5, 2], 34: [1, 1], 56: [1, 1], 23: [1, 1], 11: [1, 1], 45: [1, 1], 2: [1, 1], 3: [1, 1], 4: [1, 1], 7: [1, 1], 10: [1, 1]}\n",
      "index: 2\n"
     ]
    },
    {
     "data": {
      "text/plain": [
       "[0, 12, 0, 12, 12, 34, 56, 23, 11, 45, 2, 3, 4, 7, 10, 12]"
      ]
     },
     "execution_count": 27,
     "metadata": {},
     "output_type": "execute_result"
    }
   ],
   "source": [
    "remove_2nd_instance_v2(inp)"
   ]
  },
  {
   "cell_type": "markdown",
   "metadata": {},
   "source": [
    "### Version 3"
   ]
  },
  {
   "cell_type": "code",
   "execution_count": 28,
   "metadata": {},
   "outputs": [],
   "source": [
    "def remove_2nd_instance_v3(data):\n",
    "    print(\"data:\", data)\n",
    "    \n",
    "    index = len(data)\n",
    "    repeated = set()\n",
    "    for index, x in enumerate(data):\n",
    "        if x in repeated:\n",
    "            break\n",
    "        repeated.add(x)\n",
    "    print(\"freq_set:\", repeated)\n",
    "    print(\"index:\", index)\n",
    "    \n",
    "    output = data[:index] + data[index+1:]\n",
    "    return output"
   ]
  },
  {
   "cell_type": "code",
   "execution_count": 29,
   "metadata": {},
   "outputs": [
    {
     "name": "stdout",
     "output_type": "stream",
     "text": [
      "data: [0, 12, 12, 0, 12, 12, 34, 56, 23, 11, 45, 2, 3, 4, 7, 10, 12]\n",
      "freq_set: {0, 12}\n",
      "index: 2\n"
     ]
    },
    {
     "data": {
      "text/plain": [
       "[0, 12, 0, 12, 12, 34, 56, 23, 11, 45, 2, 3, 4, 7, 10, 12]"
      ]
     },
     "execution_count": 29,
     "metadata": {},
     "output_type": "execute_result"
    }
   ],
   "source": [
    "remove_2nd_instance_v3(inp)"
   ]
  },
  {
   "cell_type": "markdown",
   "metadata": {},
   "source": [
    "### Version 4"
   ]
  },
  {
   "cell_type": "code",
   "execution_count": 32,
   "metadata": {},
   "outputs": [],
   "source": [
    "def remove_2nd_instance_v4(data):\n",
    "    print(\"data:\", data)\n",
    "    \n",
    "    for i in range(len(data)):\n",
    "        try:\n",
    "            ii = data.index(data[i], i+1)\n",
    "            print(\"ii:\", ii)\n",
    "            return data[:ii] + data[ii+1:]\n",
    "        except ValueError:\n",
    "            continue\n",
    "    return data[:]"
   ]
  },
  {
   "cell_type": "code",
   "execution_count": 33,
   "metadata": {},
   "outputs": [
    {
     "name": "stdout",
     "output_type": "stream",
     "text": [
      "data: [0, 12, 12, 0, 12, 12, 34, 56, 23, 11, 45, 2, 3, 4, 7, 10, 12]\n",
      "ii: 3\n"
     ]
    },
    {
     "data": {
      "text/plain": [
       "[0, 12, 12, 12, 12, 34, 56, 23, 11, 45, 2, 3, 4, 7, 10, 12]"
      ]
     },
     "execution_count": 33,
     "metadata": {},
     "output_type": "execute_result"
    }
   ],
   "source": [
    "remove_2nd_instance_v4(inp)"
   ]
  },
  {
   "cell_type": "markdown",
   "metadata": {},
   "source": [
    "## Wordplay\n",
    "\n",
    "Suppose we have two books - maybe we'd like to see if they were written by the same author, or are otherwise similar. One approach to this is to evaluate the word use frequency in both texts, and then compute a 'similarity' or 'distance' measure between those two word frequencies. A related approach is to evaluate the frequency of one word being followed by another owrd (a 'aord pair'), and see the similarity in use of word pairs by the two texts. Or maybe we're interested in seeing the set of all words that come after a given word in that text.\n",
    "\n",
    "Here we'll get some practice using dictionaries and sets, with such wordplay as our motivating example.\n",
    "\n",
    "Some data to play with..."
   ]
  },
  {
   "cell_type": "code",
   "execution_count": 34,
   "metadata": {},
   "outputs": [
    {
     "name": "stdout",
     "output_type": "stream",
     "text": [
      "words: ['it', 'was', 'the', 'best', 'of', 'times', 'it', 'was', 'the', 'worst', 'of', 'times', 'it', 'was', 'the', 'age', 'of', 'wisdom', 'it', 'was', 'the', 'age', 'of', 'foolishness']\n"
     ]
    }
   ],
   "source": [
    "word_string1 = 'it was the best of times it was the worst of times '\n",
    "word_string2 = 'it was the age of wisdom it was the age of foolishness'\n",
    "word_string = word_string1 + word_string2\n",
    "\n",
    "words1 = word_string1.split()\n",
    "words2 = word_string2.split()\n",
    "words = word_string.split()\n",
    "print(\"words:\", words)"
   ]
  },
  {
   "cell_type": "markdown",
   "metadata": {},
   "source": [
    "Create some interesting dictionaries from these..."
   ]
  },
  {
   "cell_type": "code",
   "execution_count": 35,
   "metadata": {},
   "outputs": [
    {
     "name": "stdout",
     "output_type": "stream",
     "text": [
      "Word frequencies: {'it': 4, 'was': 4, 'the': 4, 'best': 1, 'of': 4, 'times': 2, 'worst': 1, 'age': 2, 'wisdom': 1, 'foolishness': 1}\n"
     ]
    }
   ],
   "source": [
    "# word frequencies\n",
    "word_freq = {}\n",
    "for w in words:\n",
    "    word_freq[w] = word_freq.get(w, 0) + 1\n",
    "print(\"Word frequencies:\", word_freq)"
   ]
  },
  {
   "cell_type": "code",
   "execution_count": 36,
   "metadata": {},
   "outputs": [
    {
     "name": "stdout",
     "output_type": "stream",
     "text": [
      "pair frequencies: {('it', 'was'): 4, ('was', 'the'): 4, ('the', 'best'): 1, ('best', 'of'): 1, ('of', 'times'): 2, ('times', 'it'): 2, ('the', 'worst'): 1, ('worst', 'of'): 1, ('the', 'age'): 2, ('age', 'of'): 2, ('of', 'wisdom'): 1, ('wisdom', 'it'): 1, ('of', 'foolishness'): 1}\n"
     ]
    }
   ],
   "source": [
    "# word pair frequencies\n",
    "word_pairs = {}\n",
    "prev = words[0]\n",
    "for w in words[1:]:\n",
    "    pair = (prev, w)\n",
    "    word_pairs[pair] = word_pairs.get(pair, 0) + 1\n",
    "    prev = w\n",
    "print(\"pair frequencies:\", word_pairs)"
   ]
  },
  {
   "cell_type": "code",
   "execution_count": 40,
   "metadata": {},
   "outputs": [
    {
     "name": "stdout",
     "output_type": "stream",
     "text": [
      "words followed by\n",
      "{'it': {'was'}, 'was': {'the'}, 'the': {'best', 'age', 'worst'}, 'best': {'of'}, 'of': {'wisdom', 'times', 'foolishness'}, 'times': {'it'}, 'worst': {'of'}, 'age': {'of'}, 'wisdom': {'it'}}\n",
      "\n"
     ]
    }
   ],
   "source": [
    "# what words follow each word?\n",
    "word_after = {}\n",
    "for w1, w2 in zip(words, words[1:]):\n",
    "    word_after.setdefault(w1, set()).add(w2)\n",
    "print(\"words followed by\\n\" + str(word_after) + \"\\n\")\n",
    "    "
   ]
  },
  {
   "cell_type": "markdown",
   "metadata": {},
   "source": [
    "Rewriting as functions so we can use them later:"
   ]
  },
  {
   "cell_type": "code",
   "execution_count": 41,
   "metadata": {},
   "outputs": [],
   "source": [
    "def get_freq(words):\n",
    "    word_freq = {}\n",
    "    for w in words:\n",
    "        word_freq[w] = word_freq.get(w, 0) + 1\n",
    "    return word_freq"
   ]
  },
  {
   "cell_type": "code",
   "execution_count": 46,
   "metadata": {},
   "outputs": [],
   "source": [
    "def get_pair_freq(words):\n",
    "    word_pairs = {}\n",
    "    for pair in zip(words, words[1:]):\n",
    "        word_pairs[pair] = word_pairs.get(pair, 0) + 1\n",
    "    return word_pairs"
   ]
  },
  {
   "cell_type": "markdown",
   "metadata": {},
   "source": [
    "Suppose we want to identify the high frequency words(i.e., sort word frequency from high to low)."
   ]
  },
  {
   "cell_type": "code",
   "execution_count": 47,
   "metadata": {},
   "outputs": [],
   "source": [
    "def sort_freq_dict(freq):\n",
    "    return sorted([(freq[key], key) for key in freq], reverse=True)"
   ]
  },
  {
   "cell_type": "code",
   "execution_count": 49,
   "metadata": {},
   "outputs": [
    {
     "name": "stdout",
     "output_type": "stream",
     "text": [
      "[(4, 'was'), (4, 'the'), (4, 'of'), (4, 'it'), (2, 'times'), (2, 'age'), (1, 'worst'), (1, 'wisdom'), (1, 'foolishness'), (1, 'best')]\n"
     ]
    }
   ],
   "source": [
    "words_by_frequency = sort_freq_dict(word_freq)\n",
    "print(words_by_frequency)"
   ]
  },
  {
   "cell_type": "markdown",
   "metadata": {},
   "source": [
    "Next, we can build a similarity measure between two wordfrequencies. We'll use a typical \"geometric\" notion of distance or similarity referred to as cosine similarity. We build this from vector measures of word frequency including the \"norm\" and the \"dot product\", and then calculate a normalized cosine distance."
   ]
  },
  {
   "cell_type": "code",
   "execution_count": 50,
   "metadata": {},
   "outputs": [],
   "source": [
    "def freq_norm(freq):\n",
    "    return sum(num**2 for num in freq.values())**0.5"
   ]
  },
  {
   "cell_type": "code",
   "execution_count": 51,
   "metadata": {},
   "outputs": [],
   "source": [
    "def freq_dot(freq1, freq2):\n",
    "    return sum(freq1[w] * freq2[w] for w in set(freq1) & set(freq2))"
   ]
  },
  {
   "cell_type": "code",
   "execution_count": 53,
   "metadata": {},
   "outputs": [],
   "source": [
    "import math"
   ]
  },
  {
   "cell_type": "code",
   "execution_count": 52,
   "metadata": {},
   "outputs": [],
   "source": [
    "def freq_similarity(freq1, freq2):\n",
    "    d = freq_dot(freq1, freq2) / (freq_norm(freq1) * freq_norm(freq2))\n",
    "    ang = math.acos(min(1.0, d))\n",
    "    return 1 - ang / (math.pi/2)"
   ]
  },
  {
   "cell_type": "code",
   "execution_count": 54,
   "metadata": {},
   "outputs": [
    {
     "name": "stdout",
     "output_type": "stream",
     "text": [
      "Combined words: {'b', 'c', 'a'}\n",
      "freq_norm of {'a': 40, 'b': 2} : 40.049968789001575\n",
      "freq_norm of {'c': 3, 'a': 30} : 30.14962686336267\n",
      "freq_dot of {'a': 40, 'b': 2} and {'c': 3, 'a': 30} : 1200\n",
      "freq_similarity: 0.9290478472408689\n"
     ]
    }
   ],
   "source": [
    "# some quick tests/ examples\n",
    "x = {'a': 40, 'b': 2}\n",
    "y = {'c': 3, 'a': 30}\n",
    "print(\"Combined words:\", set(x) | set(y))\n",
    "print(\"freq_norm of\", x, \":\", freq_norm(x))\n",
    "print(\"freq_norm of\", y, \":\", freq_norm(y))\n",
    "print(\"freq_dot of\", x, \"and\", y, \":\", freq_dot(x, y))\n",
    "print(\"freq_similarity:\", freq_similarity(x, y))"
   ]
  },
  {
   "cell_type": "code",
   "execution_count": 55,
   "metadata": {},
   "outputs": [
    {
     "name": "stdout",
     "output_type": "stream",
     "text": [
      "words1: ['it', 'was', 'the', 'best', 'of', 'times', 'it', 'was', 'the', 'worst', 'of', 'times'] \n",
      "words2: ['it', 'was', 'the', 'age', 'of', 'wisdom', 'it', 'was', 'the', 'age', 'of', 'foolishness'] \n",
      "words3: ['this', 'is', 'a', 'random', 'sentence', 'good', 'enough', 'for', 'any', 'random', 'day'] \n",
      "\n",
      "words1 vs.words2 -- word use similarity:  0.5184249085864179\n",
      "words1 vs.words3 -- word use similarity:  0.0\n",
      "words3 vs.words3 -- word use similarity:  1.0\n"
     ]
    }
   ],
   "source": [
    "# try it out with our short phrases\n",
    "words3 = \"this is a random sentence good enough for any random day\".split()\n",
    "print(\"words1:\", words1, \"\\nwords2:\", words2, \"\\nwords3:\", words3, \"\\n\")\n",
    "\n",
    "# build word and pairfrequency dictionaries, and calculate som similarities\n",
    "freq1 = get_freq(words1)\n",
    "freq2 = get_freq(words2)\n",
    "freq3 = get_freq(words3)\n",
    "print(\"words1 vs.words2 -- word use similarity: \", freq_similarity(freq1, freq2))\n",
    "print(\"words1 vs.words3 -- word use similarity: \", freq_similarity(freq1, freq3))\n",
    "print(\"words3 vs.words3 -- word use similarity: \", freq_similarity(freq3, freq3))"
   ]
  },
  {
   "cell_type": "code",
   "execution_count": 56,
   "metadata": {},
   "outputs": [
    {
     "name": "stdout",
     "output_type": "stream",
     "text": [
      "words1 vs. words2 -- pair use similarity:  0.29368642735616235\n",
      "words1 vs. words3 -- pair use similarity:  0.0\n"
     ]
    }
   ],
   "source": [
    "# try that for similarity of WORD PAIR use...\n",
    "pair1 = get_pair_freq(words1)\n",
    "pair2 = get_pair_freq(words2)\n",
    "pair3 = get_pair_freq(words3)\n",
    "print(\"words1 vs. words2 -- pair use similarity: \", freq_similarity(pair1, pair2))\n",
    "print(\"words1 vs. words3 -- pair use similarity: \", freq_similarity(pair1, pair3))"
   ]
  },
  {
   "cell_type": "markdown",
   "metadata": {},
   "source": [
    "### Now let's do it with some actual books!"
   ]
  },
  {
   "cell_type": "code",
   "execution_count": 58,
   "metadata": {},
   "outputs": [
    {
     "name": "stdout",
     "output_type": "stream",
     "text": [
      "28218 18154 15189\n"
     ]
    }
   ],
   "source": [
    "with open('hamlet.txt') as f:\n",
    "    hamlet = f.read().replace('\\n', '').lower()\n",
    "hamlet_words = hamlet.split()\n",
    "\n",
    "with open('macbeth.txt') as f:\n",
    "    macbeth = f.read().replace('\\n', '').lower()\n",
    "macbeth_words = macbeth.split()\n",
    "\n",
    "with open('alice_in_wonderland.txt') as f:\n",
    "    alice = f.read().replace('\\n', '').lower()\n",
    "alice_words = alice.split()\n",
    "\n",
    "print(len(hamlet_words), len(macbeth_words), len(alice_words))"
   ]
  },
  {
   "cell_type": "markdown",
   "metadata": {},
   "source": [
    "With the textfrom those books in hand, let's look at similarities..."
   ]
  },
  {
   "cell_type": "code",
   "execution_count": 59,
   "metadata": {},
   "outputs": [
    {
     "name": "stdout",
     "output_type": "stream",
     "text": [
      "similarity of word freq between hamleth & macbeth: 0.8234901643970373\n",
      "similarity of word freq between alice & macbeth: 0.7242123439984074\n",
      "\n",
      "similarity of word pairs between hamlet & macbeth: 0.3195599532068242\n",
      "similarity of word pairs between alice & macbeth: 0.23412902997911367\n"
     ]
    }
   ],
   "source": [
    "hamlet_freq = get_freq(hamlet_words)\n",
    "macbeth_freq = get_freq(macbeth_words)\n",
    "alice_freq = get_freq(alice_words)\n",
    "print(\"similarity of word freq between hamleth & macbeth:\",\n",
    "      freq_similarity(hamlet_freq, macbeth_freq))\n",
    "print(\"similarity of word freq between alice & macbeth:\",\n",
    "      freq_similarity(alice_freq, macbeth_freq))\n",
    "\n",
    "hamlet_pair = get_pair_freq(hamlet_words)\n",
    "macbeth_pair = get_pair_freq(macbeth_words)\n",
    "alice_pair = get_pair_freq(alice_words)\n",
    "print(\"\\nsimilarity of word pairs between hamlet & macbeth:\",\n",
    "      freq_similarity(hamlet_pair, macbeth_pair))\n",
    "print(\"similarity of word pairs between alice & macbeth:\",\n",
    "      freq_similarity(alice_pair, macbeth_pair))"
   ]
  },
  {
   "cell_type": "code",
   "execution_count": null,
   "metadata": {},
   "outputs": [],
   "source": []
  }
 ],
 "metadata": {
  "kernelspec": {
   "display_name": "Python 3",
   "language": "python",
   "name": "python3"
  },
  "language_info": {
   "codemirror_mode": {
    "name": "ipython",
    "version": 3
   },
   "file_extension": ".py",
   "mimetype": "text/x-python",
   "name": "python",
   "nbconvert_exporter": "python",
   "pygments_lexer": "ipython3",
   "version": "3.7.2"
  }
 },
 "nbformat": 4,
 "nbformat_minor": 2
}
