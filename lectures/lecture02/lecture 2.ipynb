{
 "cells": [
  {
   "cell_type": "markdown",
   "metadata": {},
   "source": [
    "## Membership in dictionary"
   ]
  },
  {
   "cell_type": "code",
   "execution_count": 3,
   "metadata": {},
   "outputs": [
    {
     "name": "stdout",
     "output_type": "stream",
     "text": [
      "{'job', 'nowplaying', 'thenandnow', 'debate', 'PBS'}\n",
      "['job', 'nowplaying', 'thenandnow', 'debate', 'PBS']\n",
      "{'job', 'nowplaying', 'thenandnow', 'debate', 'PBS'}\n"
     ]
    }
   ],
   "source": [
    "dict_set = __import__(\"dictionary-set\")"
   ]
  },
  {
   "cell_type": "code",
   "execution_count": 4,
   "metadata": {},
   "outputs": [
    {
     "name": "stdout",
     "output_type": "stream",
     "text": [
      "Start list membership check\n",
      "..........\n",
      "End list membership check\n",
      "Start set membership check\n",
      "..........\n",
      "End set membership check\n"
     ]
    }
   ],
   "source": [
    "dict_set.timingCheck(10000000)"
   ]
  },
  {
   "cell_type": "code",
   "execution_count": 5,
   "metadata": {},
   "outputs": [],
   "source": [
    "A = [42, 35, 9, 45, 88, 80, 167, 78]"
   ]
  },
  {
   "cell_type": "code",
   "execution_count": 6,
   "metadata": {},
   "outputs": [
    {
     "name": "stdout",
     "output_type": "stream",
     "text": [
      "Found a pair 45 , 35 that sums to 80\n"
     ]
    }
   ],
   "source": [
    "dict_set.pairSum(A, 80)"
   ]
  },
  {
   "cell_type": "code",
   "execution_count": 7,
   "metadata": {},
   "outputs": [
    {
     "name": "stdout",
     "output_type": "stream",
     "text": [
      "Could not find a pair that sums to 81\n"
     ]
    }
   ],
   "source": [
    "dict_set.pairSum(A, 81)"
   ]
  },
  {
   "cell_type": "code",
   "execution_count": 8,
   "metadata": {},
   "outputs": [
    {
     "name": "stdout",
     "output_type": "stream",
     "text": [
      "[(42, 45), (9, 78)]\n",
      "[(35, 88), (45, 78)]\n"
     ]
    }
   ],
   "source": [
    "dict_set.pairSumofPairs(A)"
   ]
  },
  {
   "cell_type": "code",
   "execution_count": null,
   "metadata": {},
   "outputs": [],
   "source": []
  }
 ],
 "metadata": {
  "kernelspec": {
   "display_name": "Python 3",
   "language": "python",
   "name": "python3"
  },
  "language_info": {
   "codemirror_mode": {
    "name": "ipython",
    "version": 3
   },
   "file_extension": ".py",
   "mimetype": "text/x-python",
   "name": "python",
   "nbconvert_exporter": "python",
   "pygments_lexer": "ipython3",
   "version": "3.7.2"
  }
 },
 "nbformat": 4,
 "nbformat_minor": 2
}
